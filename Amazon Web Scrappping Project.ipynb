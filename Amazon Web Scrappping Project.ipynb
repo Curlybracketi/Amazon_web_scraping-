{
 "cells": [
  {
   "cell_type": "code",
   "execution_count": 46,
   "metadata": {},
   "outputs": [],
   "source": [
    "  #import libraries \n",
    "\n",
    "from bs4 import BeautifulSoup\n",
    "import requests\n",
    "import time\n",
    "import datetime\n",
    "import smtplib"
   ]
  },
  {
   "cell_type": "code",
   "execution_count": 47,
   "metadata": {},
   "outputs": [
    {
     "name": "stdout",
     "output_type": "stream",
     "text": [
      "\n",
      "            PC-Schreibtisch PIN mit Tastaturablage | Schreibtisch Klein mit Schubladen | Office Desk | Computertisch | Bürotisch 1 Schublade, 1 Ablagefach mit Tür, B90 x H74 x T50 cm, 29 kg | Sonoma Eiche\n",
      "           \n",
      "\n",
      "\n",
      "\n",
      "            Preis\n",
      "           \n",
      "\n",
      "\n",
      "\n",
      "            89,00 €\n",
      "           \n",
      "\n",
      "\n",
      "\n",
      "            91,00 €\n",
      "           \n",
      "\n",
      "\n",
      "\n",
      "            85,90 €\n",
      "           \n",
      "\n",
      "\n",
      "\n",
      "            88,99 €\n",
      "           \n",
      "\n",
      "\n",
      "\n",
      "            86,99 €\n",
      "           \n",
      "\n",
      "\n",
      "\n",
      "            94,90 €\n",
      "           \n",
      "\n",
      "\n"
     ]
    }
   ],
   "source": [
    "#connect to website\n",
    "URL = 'https://www.amazon.de/dp/B09PRDRD6B/ref=sspa_dk_detail_0?pd_rd_i=B09PRDRD6B&pd_rd_w=wMSlS&content-id=amzn1.sym.f63cb723-41a5-4d60-97aa-9969c9663073&pf_rd_p=f63cb723-41a5-4d60-97aa-9969c9663073&pf_rd_r=4QSDG6G1YEZKBSYK02Q0&pd_rd_wg=j3WWn&pd_rd_r=15a5f0dd-f1db-4629-9128-2a6bba6f31f9&s=kitchen&sp_csd=d2lkZ2V0TmFtZT1zcF9kZXRhaWw&th=1'\n",
    "\n",
    "headers = {\"User-Agent\": \"Mozilla/5.0 (Windows NT 10.0; Win64; x64) AppleWebKit/537.36 (KHTML, like Gecko) Chrome/110.0.0.0 Safari/537.36\"}\n",
    "\n",
    "page = requests.get(URL, headers = headers)\n",
    "\n",
    "soup1 = BeautifulSoup(page.content, \"html.parser\")\n",
    "\n",
    "soup2 = BeautifulSoup(soup1.prettify(), \"html.parser\")\n",
    "\n",
    "title = soup2.find(id='productTitle').get_text()\n",
    " \n",
    "price = soup2.find(id='comparison_price_row').get_text()\n",
    "\n",
    "print(title)\n",
    "print(price)\n"
   ]
  },
  {
   "cell_type": "code",
   "execution_count": 48,
   "metadata": {},
   "outputs": [
    {
     "name": "stdout",
     "output_type": "stream",
     "text": [
      "PC-Schreibtisch PIN mit Tastaturablage | Schreibtisch Klein mit Schubladen | Office Desk | Computertisch | Bürotisch 1 Schublade, 1 Ablagefach mit Tür, B90 x H74 x T50 cm, 29 kg | Sonoma Eiche\n",
      "reis\n",
      "           \n",
      "\n",
      "\n",
      "\n",
      "            89,00 €\n",
      "           \n",
      "\n",
      "\n",
      "\n",
      "            91,00 €\n",
      "           \n",
      "\n",
      "\n",
      "\n",
      "            85,90 €\n",
      "           \n",
      "\n",
      "\n",
      "\n",
      "            88,99 €\n",
      "           \n",
      "\n",
      "\n",
      "\n",
      "            86,99 €\n",
      "           \n",
      "\n",
      "\n",
      "\n",
      "            94,90 €\n"
     ]
    }
   ],
   "source": [
    "title = title.strip()\n",
    "price = price.strip()[1:]\n",
    "\n",
    "\n",
    "print(title)\n",
    "print(price)\n"
   ]
  },
  {
   "cell_type": "code",
   "execution_count": 49,
   "metadata": {},
   "outputs": [
    {
     "name": "stdout",
     "output_type": "stream",
     "text": [
      "2023-04-26\n"
     ]
    }
   ],
   "source": [
    "import datetime\n",
    "\n",
    "today = datetime.date.today()\n",
    "\n",
    "print(today)"
   ]
  },
  {
   "cell_type": "code",
   "execution_count": 50,
   "metadata": {},
   "outputs": [],
   "source": [
    "import csv\n",
    "header = ['Title', 'Price', 'Date']\n",
    "data = [title, price, today]\n",
    "\n",
    "#with open('AmazonWebScraperDataset.csv', 'w', newline='', encoding='UTF8') as f:\n",
    "    #writer = csv.writer(f)\n",
    "    #writer.writerow(header)\n",
    "    #writer.writerow(data)"
   ]
  },
  {
   "cell_type": "code",
   "execution_count": 51,
   "metadata": {},
   "outputs": [
    {
     "name": "stdout",
     "output_type": "stream",
     "text": [
      "                                                Title  \\\n",
      "0   PC-Schreibtisch PIN mit Tastaturablage | Schre...   \n",
      "1   PC-Schreibtisch PIN mit Tastaturablage | Schre...   \n",
      "2   PC-Schreibtisch PIN mit Tastaturablage | Schre...   \n",
      "3   PC-Schreibtisch PIN mit Tastaturablage | Schre...   \n",
      "4   PC-Schreibtisch PIN mit Tastaturablage | Schre...   \n",
      "..                                                ...   \n",
      "65  PC-Schreibtisch PIN mit Tastaturablage | Schre...   \n",
      "66  PC-Schreibtisch PIN mit Tastaturablage | Schre...   \n",
      "67  PC-Schreibtisch PIN mit Tastaturablage | Schre...   \n",
      "68  PC-Schreibtisch PIN mit Tastaturablage | Schre...   \n",
      "69  PC-Schreibtisch PIN mit Tastaturablage | Schre...   \n",
      "\n",
      "                                                Price        Date  \\\n",
      "0   eis\\n          \\n\\n\\n\\n           89,00 €\\n   ...  2023-03-20   \n",
      "1   eis\\n          \\n\\n\\n\\n           89,00 €\\n   ...  2023-03-20   \n",
      "2   eis\\n          \\n\\n\\n\\n           89,00 €\\n   ...  2023-03-20   \n",
      "3   reis\\n           \\n\\n\\n\\n            89,00 €\\n...  2023-03-20   \n",
      "4   reis\\n           \\n\\n\\n\\n            89,00 €\\n...  2023-03-20   \n",
      "..                                                ...         ...   \n",
      "65  reis\\n           \\n\\n\\n\\n            89,00 €\\n...  2023-04-26   \n",
      "66  reis\\n           \\n\\n\\n\\n            89,00 €\\n...  2023-04-26   \n",
      "67  reis\\n           \\n\\n\\n\\n            89,00 €\\n...  2023-04-26   \n",
      "68  eis\\n           \\n\\n\\n\\n            89,00 €\\n ...  2023-04-26   \n",
      "69  reis\\n           \\n\\n\\n\\n            89,00 €\\n...  2023-04-26   \n",
      "\n",
      "                                                Color  \n",
      "0   Farbe:\\n              \\n\\n               Sonom...  \n",
      "1   Farbe:\\n              \\n\\n               Sonom...  \n",
      "2   Farbe:\\n              \\n\\n               Sonom...  \n",
      "3   Farbe:\\n              \\n\\n               Sonom...  \n",
      "4   Farbe:\\n              \\n\\n               Sonom...  \n",
      "..                                                ...  \n",
      "65                                                NaN  \n",
      "66                                                NaN  \n",
      "67                                                NaN  \n",
      "68                                                NaN  \n",
      "69                                                NaN  \n",
      "\n",
      "[70 rows x 4 columns]\n"
     ]
    }
   ],
   "source": [
    "import pandas as pd\n",
    "\n",
    "df = pd.read_csv(r'C:\\Users\\HP\\OneDrive\\Documents\\AmazonWebScraperDataset.csv')\n",
    "\n",
    "print(df)"
   ]
  },
  {
   "cell_type": "code",
   "execution_count": 52,
   "metadata": {},
   "outputs": [],
   "source": [
    "#appending data\n",
    "\n",
    "\n",
    "with open('AmazonWebScraperDataset.csv', 'a+', newline='', encoding='UTF8') as f:\n",
    "    writer = csv.writer(f)\n",
    "    writer.writerow(data)"
   ]
  },
  {
   "cell_type": "code",
   "execution_count": 53,
   "metadata": {},
   "outputs": [],
   "source": [
    "\n",
    "def check_price():\n",
    "    URL = 'https://www.amazon.de/dp/B09PRDRD6B/ref=sspa_dk_detail_0?pd_rd_i=B09PRDRD6B&pd_rd_w=wMSlS&content-id=amzn1.sym.f63cb723-41a5-4d60-97aa-9969c9663073&pf_rd_p=f63cb723-41a5-4d60-97aa-9969c9663073&pf_rd_r=4QSDG6G1YEZKBSYK02Q0&pd_rd_wg=j3WWn&pd_rd_r=15a5f0dd-f1db-4629-9128-2a6bba6f31f9&s=kitchen&sp_csd=d2lkZ2V0TmFtZT1zcF9kZXRhaWw&th=1'\n",
    "\n",
    "    headers = {\"User-Agent\": \"Mozilla/5.0 (Windows NT 10.0; Win64; x64) AppleWebKit/537.36 (KHTML, like Gecko) Chrome/110.0.0.0 Safari/537.36\"}\n",
    "\n",
    "    page = requests.get(URL, headers = headers)\n",
    "\n",
    "    soup1 = BeautifulSoup(page.content, \"html.parser\")\n",
    "\n",
    "    soup2 = BeautifulSoup(soup1.prettify(), \"html.parser\")\n",
    "\n",
    "    title = soup2.find(id='productTitle').get_text()\n",
    " \n",
    "    price = soup2.find(id='comparison_price_row').get_text()\n",
    "    \n",
    "\n",
    "    title = title.strip()\n",
    "    price = price.strip()[1:]\n",
    "    \n",
    "    \n",
    "    import datetime\n",
    "\n",
    "    today = datetime.date.today()\n",
    "\n",
    "    import csv\n",
    "    \n",
    "    header = ['Title', 'Price', 'Date']\n",
    "    \n",
    "    data = [title, price, today]\n",
    "    \n",
    "    with open('AmazonWebScraperDataset.csv', 'a+', newline='', encoding='UTF8') as f:\n",
    "        writer = csv.writer(f)\n",
    "        writer.writerow(data)\n",
    "\n",
    "        if int(price < 40):\n",
    "            send_mail()\n",
    "\n"
   ]
  },
  {
   "cell_type": "code",
   "execution_count": 54,
   "metadata": {},
   "outputs": [],
   "source": [
    "def send_mail():\n",
    "    server = smtplib.smtp_ssl('smtp.gmail', 465)\n",
    "    server.ehlo()\n",
    "    server.starttls()\n",
    "    server.ehlo()\n",
    "    server.login('hushreen@gmail.com', 'passsword')\n",
    "    \n",
    "    subject = \" the item you looking to purchase is below 40\"\n",
    "    body = \"Hush, this is your window to close the deal\"\n",
    "    \n",
    "    msg = f\"subject: {subject}\\n\\n{body}\"\n",
    "    \n",
    "    server.send_mail('Hushreen@gmail.com', msg)"
   ]
  },
  {
   "cell_type": "code",
   "execution_count": 55,
   "metadata": {},
   "outputs": [
    {
     "name": "stdout",
     "output_type": "stream",
     "text": [
      "                                                Title  \\\n",
      "0   PC-Schreibtisch PIN mit Tastaturablage | Schre...   \n",
      "1   PC-Schreibtisch PIN mit Tastaturablage | Schre...   \n",
      "2   PC-Schreibtisch PIN mit Tastaturablage | Schre...   \n",
      "3   PC-Schreibtisch PIN mit Tastaturablage | Schre...   \n",
      "4   PC-Schreibtisch PIN mit Tastaturablage | Schre...   \n",
      "..                                                ...   \n",
      "66  PC-Schreibtisch PIN mit Tastaturablage | Schre...   \n",
      "67  PC-Schreibtisch PIN mit Tastaturablage | Schre...   \n",
      "68  PC-Schreibtisch PIN mit Tastaturablage | Schre...   \n",
      "69  PC-Schreibtisch PIN mit Tastaturablage | Schre...   \n",
      "70  PC-Schreibtisch PIN mit Tastaturablage | Schre...   \n",
      "\n",
      "                                                Price        Date  \\\n",
      "0   eis\\n          \\n\\n\\n\\n           89,00 €\\n   ...  2023-03-20   \n",
      "1   eis\\n          \\n\\n\\n\\n           89,00 €\\n   ...  2023-03-20   \n",
      "2   eis\\n          \\n\\n\\n\\n           89,00 €\\n   ...  2023-03-20   \n",
      "3   reis\\n           \\n\\n\\n\\n            89,00 €\\n...  2023-03-20   \n",
      "4   reis\\n           \\n\\n\\n\\n            89,00 €\\n...  2023-03-20   \n",
      "..                                                ...         ...   \n",
      "66  reis\\n           \\n\\n\\n\\n            89,00 €\\n...  2023-04-26   \n",
      "67  reis\\n           \\n\\n\\n\\n            89,00 €\\n...  2023-04-26   \n",
      "68  eis\\n           \\n\\n\\n\\n            89,00 €\\n ...  2023-04-26   \n",
      "69  reis\\n           \\n\\n\\n\\n            89,00 €\\n...  2023-04-26   \n",
      "70  reis\\n           \\n\\n\\n\\n            89,00 €\\n...  2023-04-26   \n",
      "\n",
      "                                                Color  \n",
      "0   Farbe:\\n              \\n\\n               Sonom...  \n",
      "1   Farbe:\\n              \\n\\n               Sonom...  \n",
      "2   Farbe:\\n              \\n\\n               Sonom...  \n",
      "3   Farbe:\\n              \\n\\n               Sonom...  \n",
      "4   Farbe:\\n              \\n\\n               Sonom...  \n",
      "..                                                ...  \n",
      "66                                                NaN  \n",
      "67                                                NaN  \n",
      "68                                                NaN  \n",
      "69                                                NaN  \n",
      "70                                                NaN  \n",
      "\n",
      "[71 rows x 4 columns]\n"
     ]
    }
   ],
   "source": [
    "import pandas as pd\n",
    "\n",
    "df = pd.read_csv(r'C:\\Users\\HP\\OneDrive\\Documents\\AmazonWebScraperDataset.csv')\n",
    "\n",
    "print(df)"
   ]
  },
  {
   "cell_type": "code",
   "execution_count": null,
   "metadata": {},
   "outputs": [],
   "source": []
  },
  {
   "cell_type": "code",
   "execution_count": null,
   "metadata": {},
   "outputs": [],
   "source": []
  }
 ],
 "metadata": {
  "kernelspec": {
   "display_name": "Python 3 (ipykernel)",
   "language": "python",
   "name": "python3"
  },
  "language_info": {
   "codemirror_mode": {
    "name": "ipython",
    "version": 3
   },
   "file_extension": ".py",
   "mimetype": "text/x-python",
   "name": "python",
   "nbconvert_exporter": "python",
   "pygments_lexer": "ipython3",
   "version": "3.10.9"
  }
 },
 "nbformat": 4,
 "nbformat_minor": 4
}
